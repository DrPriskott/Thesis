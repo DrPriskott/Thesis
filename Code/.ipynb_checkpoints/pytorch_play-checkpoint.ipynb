{
 "cells": [
  {
   "cell_type": "markdown",
   "metadata": {},
   "source": [
    "# Neural Processes - PyTorch implementation"
   ]
  },
  {
   "cell_type": "markdown",
   "metadata": {},
   "source": [
    "**N.B.:** pay attention to the tensors dimensions: a 3-by-1 vector can be represented as a tensor `[[1, 2, 3]]` or `[[1], [2], [3]]`. In the former case the shape is `tensor.Size([3])`, in the latter is `tensor.Size([3, 1])`"
   ]
  },
  {
   "cell_type": "markdown",
   "metadata": {},
   "source": [
    "Suppose you start with a dataframe as\n",
    "\\begin{bmatrix}\n",
    "    x_{1, 1} & \\cdots & x_{1, p} & y_{1} \\\\\n",
    "    x_{2, 1} & \\cdots & x_{2, p} & y_{2} \\\\\n",
    "    \\vdots & \\vdots & \\vdots & \\vdots \\\\\n",
    "    x_{n, 1} & \\cdots & x_{n, p} & y_{n}\\\\\n",
    "\\end{bmatrix}\n",
    "where you have $p$ features for each of the $n$ observations. Applying `h()` returns a $(n \\times \\text{r_dim})$ tensor with rows corresponding to `r_i` - in other words, for each observation $[x_{i,1}, \\dots, x_{i,p}], \\; i = 1, \\dots, n$, you obtain a vector $r_i = [r_{i,1}, \\dots, r_{i, \\text{r_dim}}], \\; i = 1, \\dots, n$\n",
    "\\begin{bmatrix}\n",
    "    r_{1,1} & \\cdots & r_{1, \\text{r_dim}} \\\\\n",
    "    r_{2,1} & \\cdots & r_{2, \\text{r_dim}} \\\\\n",
    "    \\vdots & \\vdots & \\vdots \\\\\n",
    "    r_{n,1} & \\cdots & r_{n, \\text{r_dim}} \\\\\n",
    "\\end{bmatrix}\n",
    "\n",
    "Taking the mean along columns gives the `r` tensor with dimensions $1 \\times \\text{r_dim}$ \n",
    "\\begin{bmatrix}\n",
    "    \\bar{r}_{1} & \\cdots & \\bar{r}_{\\text{r_dim}} \\\\\n",
    "\\end{bmatrix}"
   ]
  },
  {
   "cell_type": "markdown",
   "metadata": {},
   "source": [
    "### From context point data to r\n",
    "Suppose that $p = 1$, thus the input tensor and the `r_i` representations are, respectively,\n",
    "\\begin{align*}\n",
    "\\begin{bmatrix}\n",
    "    x_{1} & y_{1} \\\\\n",
    "    x_{2} & y_{2} \\\\\n",
    "    \\vdots & \\vdots \\\\\n",
    "    x_{n} & y_{n}\\\\\n",
    "\\end{bmatrix} & \\qquad\n",
    "\\begin{bmatrix}\n",
    "    r_{1, 1} & \\cdots & r_{1, \\text{r_dim}} \\\\\n",
    "    r_{2, 1} & \\cdots & r_{2, \\text{r_dim}} \\\\\n",
    "    \\vdots & \\vdots & \\vdots \\\\\n",
    "    r_{n, 1} & \\cdots & r_{n, \\text{r_dim}} \\\\\n",
    "\\end{bmatrix}\n",
    "\\end{align*}"
   ]
  },
  {
   "cell_type": "markdown",
   "metadata": {},
   "source": [
    "### From r to z_mean, z_logvar\n",
    "Then `r` is mapped to the mean and variace of `z` to produce two vectors `z_mean` and `z_logvar`, respectively,\n",
    "\\begin{align*}\n",
    "\\text{z_mean} = \\begin{bmatrix}\n",
    "    z_{\\text{mean}, 1} & \\cdots & z_{\\text{mean, z_dim}}\n",
    "\\end{bmatrix} & \\qquad \n",
    "\\text{z_logvar} =\n",
    "\\begin{bmatrix}\n",
    "    z_{\\text{logvar}, 1} & \\cdots & z_{\\text{logvar, z_dim}}\n",
    "\\end{bmatrix}\n",
    "\\end{align*}\n",
    "\n",
    "That parametrize the distribution of `z` as follows \n",
    "$$z \\sim \\mathcal{N}\\left(\\text{z_mean}, \\; I_{\\text{z_dim}} \\times \\exp\\left(\\frac{\\text{z_logvar}}{2}\\right) \\right)$$\n",
    "where $I_{\\text{z_dim}}$ is a $\\text{z_dim}$-dimensional diagonal matrix"
   ]
  },
  {
   "cell_type": "markdown",
   "metadata": {},
   "source": [
    "### Generate a sample\n",
    "\n",
    "using the reparametrization trick\n",
    "$$z = \\text{z_mean} + \\frac{\\text{z_logvar}}{2} \\times \\varepsilon, \\qquad \\varepsilon \\sim \\mathcal{N}\\left(0, I_{\\text{z_dim}}\\right)$$"
   ]
  },
  {
   "cell_type": "markdown",
   "metadata": {},
   "source": [
    "### Generate prediction y_target\n",
    "As soon as `x_target` is available, use it together with the sampled `z` to predict `y_target`. Suppose we have $m$ target points, i.e. $x_t, \\; t=1,\\dots,m$. The input of `g()` are\n",
    "\n",
    "\\begin{bmatrix}\n",
    "    x_{1,1} & z_{1} & \\cdots & z_{\\text{z_dim}} \\\\\n",
    "    x_{2,1} & z_{1} & \\cdots & z_{\\text{z_dim}} \\\\\n",
    "    \\vdots & \\vdots & \\vdots \\\\\n",
    "    x_{m,1} & z_{1} & \\cdots & z_{\\text{z_dim}} \\\\\n",
    "\\end{bmatrix}"
   ]
  },
  {
   "cell_type": "markdown",
   "metadata": {},
   "source": [
    " "
   ]
  },
  {
   "cell_type": "markdown",
   "metadata": {},
   "source": [
    "-------"
   ]
  },
  {
   "cell_type": "markdown",
   "metadata": {},
   "source": [
    " "
   ]
  },
  {
   "cell_type": "code",
   "execution_count": 1,
   "metadata": {},
   "outputs": [],
   "source": [
    "import numpy as np\n",
    "import torch\n",
    "import matplotlib.pyplot as plt\n",
    "%matplotlib inline"
   ]
  },
  {
   "cell_type": "markdown",
   "metadata": {},
   "source": [
    "Create a toy dataset"
   ]
  },
  {
   "cell_type": "code",
   "execution_count": 2,
   "metadata": {},
   "outputs": [
    {
     "name": "stdout",
     "output_type": "stream",
     "text": [
      " x \t\t y \n",
      " [[-2.         -0.9092974 ]\n",
      " [-1.         -0.84147096]\n",
      " [ 0.          0.        ]\n",
      " [ 1.          0.84147096]\n",
      " [ 2.          0.9092974 ]]\n"
     ]
    },
    {
     "data": {
      "image/png": "[encoded data removed]",
      "text/plain": [
       "<Figure size 432x288 with 1 Axes>"
      ]
     },
     "metadata": {
      "needs_background": "light"
     },
     "output_type": "display_data"
    }
   ],
   "source": [
    "all_x_np = np.arange(-2, 3, 1).reshape(-1, 1).astype(np.float32)\n",
    "all_y_np = np.sin(all_x_np)\n",
    "print(' x \\t\\t y \\n', np.concatenate((all_x_np, all_y_np), axis=1))\n",
    "\n",
    "plt.scatter(all_x_np,all_y_np)\n",
    "plt.show()"
   ]
  },
  {
   "cell_type": "markdown",
   "metadata": {},
   "source": [
    "### Define the model"
   ]
  },
  {
   "cell_type": "markdown",
   "metadata": {},
   "source": [
    "h_specs and g_specs must be list of tuples like `[(output_dim_1, torch.nn.ReLU()), ..., (output_dim_H, activation_H()), (r_dim, None)]` for `H` hidden layers and linear (no activations) output layer with dimension `r_dim`"
   ]
  },
  {
   "cell_type": "code",
   "execution_count": 24,
   "metadata": {},
   "outputs": [],
   "source": [
    "class NP(torch.nn.Module):\n",
    "    def __init__(self, n_features, n_labels, z_dim, h_specs, g_specs):\n",
    "        \"\"\"Defines the attributes, i.e. the modules that define the \n",
    "           operation needed to implement the Neural Process\n",
    "           \n",
    "            Inputs:\n",
    "                n_features: number of features per observation, i.e. number of \n",
    "                            components of vector `x_i`, i = 1, ..., n\n",
    "                \n",
    "                n_labels: number of components of the output vector `y_i`\n",
    "                            i = 1, ..., n\n",
    "                \n",
    "                z_dim: dimension of the latent `z` vector\n",
    "                \n",
    "                h_specs: list of tuples defining the number of units and activation\n",
    "                            functions per each layer of the encoder. The size of the \n",
    "                            `r` representation must be passed as last tuple. If no \n",
    "                            activation is needed put `None`; \n",
    "                            e.g. two layers with 8 hidden units and relu activation \n",
    "                            function, output layer is linear:\n",
    "                                [(8, torch.nn.ReLU()), (8, torch.nn.ReLU()), (r_dim, None)]\n",
    "                \n",
    "                g_specs: list of tuples defining the number of units and activation\n",
    "                            functions per each layer of the decoder. The size of the \n",
    "                            If no activation is needed put `None`; The size of the \n",
    "                            output layer, i.e. the number of components of the `y_target` \n",
    "                            must agree with the dimension of `y_context`\n",
    "                            e.g. two layers with 8 hidden units and relu activation \n",
    "                            function, output layer is linear:\n",
    "                                [(8, torch.nn.ReLU()), (8, torch.nn.ReLU()), (y_context_dim, None)]\n",
    "                                \n",
    "            \n",
    "            Returns:\n",
    "                y_hat: the predicted value for `y_target` based on `z` and `x_target`\n",
    "                \n",
    "               \n",
    "           \"\"\"\n",
    "        super().__init__()\n",
    "        self.n_features = n_features \n",
    "        self.n_labels = n_labels\n",
    "        self.z_dim = z_dim #number of components of z\n",
    "        self.h_specs = h_specs\n",
    "        self.g_specs = g_specs\n",
    "        self.h() #call the h() method in the constructor to modules for the layers\n",
    "        self.r_to_z() #call the r_to_z() method in the constructor to add module that maps r -> (z_mu, z_logvar)  \n",
    "        self.g() #call the g() method in the constructor to modules for the layers\n",
    "            \n",
    "    def h(self):\n",
    "        \"\"\"Function that dynamically creates attributes for \n",
    "           the encoder network `h()`; needs to be run in the \n",
    "           constructor; check that every layer is defined by\n",
    "           accessing the OrderedDict in object._modules\"\"\"\n",
    "        h_input_dim = self.n_features + self.n_labels #number of features + output per observation\n",
    "        \n",
    "        for i in range(len(self.h_specs)):\n",
    "            if i == 0:    \n",
    "                setattr(self, 'h_layer' + str(i), torch.nn.Linear(h_input_dim, self.h_specs[i][0]))\n",
    "                if self.h_specs[i][1]:\n",
    "                    setattr(self, 'h_layer' + str(i) + '_act', self.h_specs[i][1])\n",
    "            else:\n",
    "                setattr(self, 'h_layer' + str(i), torch.nn.Linear(self.h_specs[i-1][0], self.h_specs[i][0]))\n",
    "                if self.h_specs[i][1]:\n",
    "                    setattr(self, 'h_layer' + str(i) + '_act', self.h_specs[i][1])  \n",
    "        return\n",
    "                   \n",
    "                \n",
    "    def aggregate(self, x):\n",
    "        \"\"\"Computes the mean of the elements in the r_i \n",
    "           tensor created by `h()`; not called in the \n",
    "           constructor, it is simply called in the `forward()`\n",
    "           method; it takes the mean along columns of the tensor\"\"\"\n",
    "        return torch.mean(x, dim=0)\n",
    "    \n",
    "    \n",
    "    def r_to_z(self):\n",
    "        \"\"\"Function that creates attributes in for the \n",
    "           mapping function r -> (z_mean, z_logvar)\"\"\"\n",
    "        setattr(self, 'r_to_mean', torch.nn.Linear(self.h_specs[-1][0], self.z_dim)) # self.h_specs[-1][] since r_dim is in the last tuple\n",
    "        setattr(self, 'r_to_logvar', torch.nn.Linear(self.h_specs[-1][0], self.z_dim))\n",
    "        setattr(self, 'r_to_logvar_softplus', torch.nn.Softplus())\n",
    "        return\n",
    "    \n",
    "    \n",
    "    def sample_z(self, z_mean, z_logvar):\n",
    "        \"\"\"Function used to sample from z using the \n",
    "           reparametrization \n",
    "               z = z_mean + exp(1/2 * z_logvar) * eps\n",
    "           where eps ~ N(0, I)\"\"\"\n",
    "        var = torch.exp(0.5 * z_logvar)\n",
    "        eps = torch.randn_like(var) \n",
    "        z_sample = eps.mul(var).add_(z_mean)\n",
    "        z_sample = z_sample.unsqueeze(-1) # from [[1,2,3]] to [[1], [2], [3]]\n",
    "        return z_sample\n",
    "\n",
    "    \n",
    "    def g(self):\n",
    "        \"\"\"Function that dynamically creates attrbutes for \n",
    "           the decoder network `g()`; needs to be run in the \n",
    "           constructor; check that every layer is defined by\n",
    "           accessing the OrderedDict in object._modules\"\"\"\n",
    "        g_n_features = self.n_features + self.z_dim #number of features\n",
    "        \n",
    "        for i in range(len(self.g_specs)):\n",
    "            if i == 0:    \n",
    "                setattr(self, 'g_layer' + str(i), torch.nn.Linear(g_n_features, self.g_specs[i][0]))\n",
    "                if self.g_specs[i][1]:\n",
    "                    setattr(self, 'g_layer' + str(i) + '_act', self.g_specs[i][1])\n",
    "            else:\n",
    "                setattr(self, 'g_layer' + str(i), torch.nn.Linear(self.g_specs[i-1][0], self.g_specs[i][0]))\n",
    "                if self.g_specs[i][1]:\n",
    "                    setattr(self, 'g_layer' + str(i) + '_act', self.g_specs[i][1])    \n",
    "                \n",
    "    \n",
    "    def forward(self, xy_context, x_target=None):\n",
    "        \"\"\"Opearations to be implemented at each forward pass;\n",
    "           the modules to be used are already build in the \n",
    "           constructor, just call them accessing the `_modules`\n",
    "           attributes\"\"\"\n",
    "\n",
    "        # from context data to r_i\n",
    "        r_i = xy_context\n",
    "        for layer_name, layer_func in self._modules.items():\n",
    "            if layer_name.startswith('h'):\n",
    "                r_i = layer_func(r_i)\n",
    "                \n",
    "        # from r_i's to r\n",
    "        r = self.aggregate(r_i)\n",
    "        \n",
    "        # from r to z_mean and z_logvar\n",
    "        z_mean = self._modules['r_to_mean'](r)\n",
    "        z_logvar = self._modules['r_to_logvar_softplus'](self._modules['r_to_logvar'](r))\n",
    "        \n",
    "        # sample z from the distribution\n",
    "        z_sample = self.sample_z(z_mean, z_logvar)\n",
    "        \n",
    "        # concatenate x_target and z\n",
    "        xz = torch.cat([x_target, z_sample.view(z_sample.shape[1], z_sample.shape[0]).expand(x_target.shape[0], -1)], dim=1)\n",
    "        y_target = xz\n",
    "        for layer_name, layer_func in self._modules.items():\n",
    "            if layer_name.startswith('g'):\n",
    "                y_target = layer_func(y_target)\n",
    "        \n",
    "        return y_target, z_sample"
   ]
  },
  {
   "cell_type": "markdown",
   "metadata": {},
   "source": [
    "### Helper functions"
   ]
  },
  {
   "cell_type": "markdown",
   "metadata": {},
   "source": [
    "Helper function to split randomly into context and target"
   ]
  },
  {
   "cell_type": "code",
   "execution_count": 19,
   "metadata": {},
   "outputs": [],
   "source": [
    "def random_split_context_target(x, y, n_context):\n",
    "    \"\"\"splits and returns tensors\"\"\"\n",
    "    x_index = np.arange(x.shape[0])\n",
    "    mask = np.random.choice(x_index, size=n_context, replace=False)\n",
    "    x_context_np = x[mask]\n",
    "    y_context_np = y[mask]\n",
    "    x_target_np = np.delete(x, mask, axis=0) \n",
    "    y_target_np = np.delete(y, mask, axis=0)\n",
    "    \n",
    "    x_context_tensor = torch.from_numpy(x_context_np)\n",
    "    y_context_tensor = torch.from_numpy(y_context_np)\n",
    "    x_target_tensor = torch.from_numpy(x_target_np)\n",
    "    y_target_tensor = torch.from_numpy(y_target_np)\n",
    "    \n",
    "    return x_context_tensor, y_context_tensor, x_target_tensor, y_target_tensor\n",
    "\n",
    "\n",
    "def visualise(x, y, x_star):\n",
    "    z_mu, z_std = data_to_z_params(x,y)\n",
    "    zsamples = sample_z(z_mu, z_std, 100)\n",
    "    \n",
    "    mu, _ = decoder(x_star, zsamples)\n",
    "    for i in range(mu.shape[1]):\n",
    "        plt.plot(x_star.data.numpy(), mu[:,i].data.numpy(), linewidth=1)\n",
    "    plt.scatter(x.data.numpy(), y.data.numpy())\n",
    "    plt.show()"
   ]
  },
  {
   "cell_type": "markdown",
   "metadata": {},
   "source": [
    "### Parameters initialisation"
   ]
  },
  {
   "cell_type": "code",
   "execution_count": 46,
   "metadata": {},
   "outputs": [],
   "source": [
    "n_context = 10\n",
    "x = np.arange(-5,3, 0.1).reshape(-1,1).astype(np.float32)\n",
    "y = np.sin(x)\n",
    "x_c, y_c, x_t, y_t = random_split_context_target(x, y, n_context)"
   ]
  },
  {
   "cell_type": "code",
   "execution_count": 68,
   "metadata": {},
   "outputs": [],
   "source": [
    "r_dim = 3\n",
    "z_dim = 7\n",
    "h_specs = [(400, torch.nn.ReLU), (50, torch.nn.ReLU), (r_dim, None)]\n",
    "g_specs = [(55, torch.nn.ReLU), (60, torch.nn.ReLU), (x_t.shape[1], None)]\n",
    "\n",
    "model = NP(n_features=x_c.shape[1], n_labels=y_c.shape[1], h_specs=h_specs, z_dim=4, g_specs=g_specs)"
   ]
  },
  {
   "cell_type": "code",
   "execution_count": 70,
   "metadata": {},
   "outputs": [],
   "source": [
    "y_hat, z_sample = model(torch.cat([x_c, y_c], dim=1), x_t)"
   ]
  },
  {
   "cell_type": "code",
   "execution_count": 71,
   "metadata": {},
   "outputs": [
    {
     "data": {
      "image/png": "[encoded data removed]",
      "text/plain": [
       "<Figure size 432x288 with 1 Axes>"
      ]
     },
     "metadata": {
      "needs_background": "light"
     },
     "output_type": "display_data"
    }
   ],
   "source": [
    "# for i in range(y_hat.shape[1]):\n",
    "plt.scatter(x_t.data.numpy(), y_hat.data.numpy())\n",
    "plt.show()"
   ]
  },
  {
   "cell_type": "code",
   "execution_count": 51,
   "metadata": {},
   "outputs": [
    {
     "data": {
      "text/plain": [
       "array([[-0.06645858],\n",
       "       [-0.07834274],\n",
       "       [-0.09022671],\n",
       "       [-0.11399502],\n",
       "       [-0.12587917],\n",
       "       [-0.13776314],\n",
       "       [-0.14964724],\n",
       "       [-0.16153133],\n",
       "       [-0.18529958],\n",
       "       [-0.19718367],\n",
       "       [-0.2090677 ],\n",
       "       [-0.2209518 ],\n",
       "       [-0.23283589],\n",
       "       [-0.24471998],\n",
       "       [-0.25660414],\n",
       "       [-0.26848805],\n",
       "       [-0.2803722 ],\n",
       "       [-0.29225624],\n",
       "       [-0.3041404 ],\n",
       "       [-0.31602448],\n",
       "       [-0.3397926 ],\n",
       "       [-0.35167673],\n",
       "       [-0.36356083],\n",
       "       [-0.37544495],\n",
       "       [-0.38732907],\n",
       "       [-0.39921308],\n",
       "       [-0.4110972 ],\n",
       "       [-0.42298132],\n",
       "       [-0.43486533],\n",
       "       [-0.4467495 ],\n",
       "       [-0.47051764],\n",
       "       [-0.4824018 ],\n",
       "       [-0.50616986],\n",
       "       [-0.51805395],\n",
       "       [-0.5299381 ],\n",
       "       [-0.54182214],\n",
       "       [-0.5537063 ],\n",
       "       [-0.5655904 ],\n",
       "       [-0.5774744 ],\n",
       "       [-0.5893585 ],\n",
       "       [-0.60124254],\n",
       "       [-0.6131267 ],\n",
       "       [-0.6250108 ],\n",
       "       [-0.6368948 ],\n",
       "       [-0.6487789 ],\n",
       "       [-0.660663  ],\n",
       "       [-0.6725471 ],\n",
       "       [-0.6844312 ],\n",
       "       [-0.6963153 ],\n",
       "       [-0.7081994 ],\n",
       "       [-0.73196757],\n",
       "       [-0.75573575],\n",
       "       [-0.7676198 ],\n",
       "       [-0.7795039 ],\n",
       "       [-0.791388  ],\n",
       "       [-0.8032721 ],\n",
       "       [-0.8151561 ],\n",
       "       [-0.82704026],\n",
       "       [-0.8389243 ],\n",
       "       [-0.8508084 ],\n",
       "       [-0.8626925 ],\n",
       "       [-0.87457657],\n",
       "       [-0.88646066],\n",
       "       [-0.89834476],\n",
       "       [-0.92211294],\n",
       "       [-0.9339971 ],\n",
       "       [-0.9458811 ],\n",
       "       [-0.9696493 ],\n",
       "       [-0.9815334 ],\n",
       "       [-1.0053016 ]], dtype=float32)"
      ]
     },
     "execution_count": 51,
     "metadata": {},
     "output_type": "execute_result"
    }
   ],
   "source": [
    "y_hat.data.numpy()"
   ]
  },
  {
   "cell_type": "code",
   "execution_count": 448,
   "metadata": {},
   "outputs": [],
   "source": [
    "#inputs\n",
    "x = torch.randn((5,1))\n",
    "y = torch.randn((5,1))\n",
    "xy = torch.cat([x,y], dim=1)\n",
    "x_target = torch.randn((1,1))\n",
    "\n",
    "h_specs = [(8, torch.nn.ReLU()), (6, None)]\n",
    "g_specs = [(8, torch.nn.ReLU()), (1, None)]"
   ]
  },
  {
   "cell_type": "code",
   "execution_count": 449,
   "metadata": {},
   "outputs": [],
   "source": [
    "\n",
    "\n",
    "r_i, rr, z_mean, z_logvar, z_sample, y_target, xz = r(xy, x_target)"
   ]
  },
  {
   "cell_type": "code",
   "execution_count": null,
   "metadata": {},
   "outputs": [],
   "source": [
    "def train(epoch):\n",
    "    model.train()\n",
    "    train_loss = 0\n",
    "    for batch_idx, (y_all, _) in enumerate(train_loader):\n",
    "        batch_size = y_all.shape[0]\n",
    "        y_all = y_all.to(device).view(batch_size, -1, 1)\n",
    "\n",
    "        N = random.randint(1, 784)  # number of context points\n",
    "        context_idx = get_context_idx(N)\n",
    "        x_context = idx_to_x(context_idx, batch_size)\n",
    "        y_context = idx_to_y(context_idx, y_all)\n",
    "        x_all = x_grid.expand(batch_size, -1, -1)\n",
    "\n",
    "        optimizer.zero_grad()\n",
    "        y_hat, z_all, z_context = model(x_context, y_context, x_all, y_all)\n",
    "\n",
    "        loss = np_loss(y_hat, y_all, z_all, z_context)\n",
    "        loss.backward()\n",
    "        train_loss += loss.item()\n",
    "        optimizer.step()\n",
    "        if batch_idx % args.log_interval == 0:\n",
    "            print('Train Epoch: {} [{}/{} ({:.0f}%)]\\tLoss: {:.6f}'.format(\n",
    "                epoch, batch_idx * len(y_all), len(train_loader.dataset),\n",
    "                       100. * batch_idx / len(train_loader),\n",
    "                       loss.item() / len(y_all)))\n",
    "    print('====> Epoch: {} Average loss: {:.4f}'.format(\n",
    "        epoch, train_loss / len(train_loader.dataset)))\n",
    "\n",
    "\n",
    "def test(epoch):\n",
    "    model.eval()\n",
    "    test_loss = 0\n",
    "    with torch.no_grad():\n",
    "        for i, (y_all, _) in enumerate(test_loader):\n",
    "            y_all = y_all.to(device).view(y_all.shape[0], -1, 1)\n",
    "            batch_size = y_all.shape[0]\n",
    "\n",
    "            N = 300\n",
    "            context_idx = get_context_idx(N)\n",
    "            x_context = idx_to_x(context_idx, batch_size)\n",
    "            y_context = idx_to_y(context_idx, y_all)\n",
    "\n",
    "            y_hat, z_all, z_context = model(x_context, y_context)\n",
    "            test_loss += np_loss(y_hat, y_all, z_all, z_context).item()\n",
    "\n",
    "            if i == 0:  # save PNG of reconstructed examples\n",
    "                plot_Ns = [10, 100, 300, 784]\n",
    "                num_examples = min(batch_size, 16)\n",
    "                for N in plot_Ns:\n",
    "                    recons = []\n",
    "                    context_idx = get_context_idx(N)\n",
    "                    x_context = idx_to_x(context_idx, batch_size)\n",
    "                    y_context = idx_to_y(context_idx, y_all)\n",
    "                    for d in range(5):\n",
    "                        y_hat, _, _ = model(x_context, y_context)\n",
    "                        recons.append(y_hat[:num_examples])\n",
    "                    recons = torch.cat(recons).view(-1, 1, 28, 28).expand(-1, 3, -1, -1)\n",
    "                    background = torch.tensor([0., 0., 1.], device=device)\n",
    "                    background = background.view(1, -1, 1).expand(num_examples, 3, 784).contiguous()\n",
    "                    context_pixels = y_all[:num_examples].view(num_examples, 1, -1)[:, :, context_idx]\n",
    "                    context_pixels = context_pixels.expand(num_examples, 3, -1)\n",
    "                    background[:, :, context_idx] = context_pixels\n",
    "                    comparison = torch.cat([background.view(-1, 3, 28, 28),\n",
    "                                            recons])\n",
    "                    save_image(comparison.cpu(),\n",
    "                               'results/ep_' + str(epoch) +\n",
    "                               '_cps_' + str(N) + '.png', nrow=num_examples)\n",
    "\n",
    "    test_loss /= len(test_loader.dataset)\n",
    "    print('====> Test set loss: {:.4f}'.format(test_loss))"
   ]
  },
  {
   "cell_type": "code",
   "execution_count": 450,
   "metadata": {},
   "outputs": [
    {
     "data": {
      "text/plain": [
       "tensor([[0.5321]], grad_fn=<ThAddmmBackward>)"
      ]
     },
     "execution_count": 450,
     "metadata": {},
     "output_type": "execute_result"
    }
   ],
   "source": [
    "y_target"
   ]
  },
  {
   "cell_type": "code",
   "execution_count": 454,
   "metadata": {},
   "outputs": [
    {
     "name": "stdout",
     "output_type": "stream",
     "text": [
      "Parameter containing:\n",
      "tensor([[-0.4119, -0.5481],\n",
      "        [ 0.4717, -0.2063],\n",
      "        [ 0.5675, -0.0696],\n",
      "        [ 0.1147, -0.1895],\n",
      "        [ 0.1097, -0.3816],\n",
      "        [ 0.0797, -0.0938],\n",
      "        [ 0.5448, -0.7040],\n",
      "        [ 0.5691, -0.2562]], requires_grad=True)\n",
      "Parameter containing:\n",
      "tensor([-0.6433,  0.5584, -0.1826,  0.3319,  0.0830,  0.6283, -0.1729, -0.1951],\n",
      "       requires_grad=True)\n",
      "Parameter containing:\n",
      "tensor([[ 0.2440, -0.2131,  0.2332,  0.0566, -0.3294, -0.2269, -0.1447, -0.3347],\n",
      "        [ 0.0283, -0.3107,  0.2692,  0.2673,  0.0305,  0.1951,  0.1870, -0.2716],\n",
      "        [ 0.0129, -0.1644, -0.0654,  0.3496, -0.0407,  0.1357,  0.0548,  0.2479],\n",
      "        [-0.2368, -0.1613,  0.2546,  0.3408,  0.1142, -0.0618,  0.1047, -0.0254],\n",
      "        [-0.1763, -0.1979, -0.0517, -0.1633,  0.3354,  0.0125, -0.1163,  0.0073],\n",
      "        [-0.3160, -0.2325, -0.2308,  0.1812,  0.0100,  0.0083,  0.1079, -0.0380]],\n",
      "       requires_grad=True)\n",
      "Parameter containing:\n",
      "tensor([-0.3353,  0.3233,  0.0661,  0.1183, -0.1239,  0.0186], requires_grad=True)\n",
      "Parameter containing:\n",
      "tensor([[ 0.2607,  0.1865,  0.1325,  0.2106, -0.2171, -0.0595],\n",
      "        [ 0.2029, -0.1254, -0.3375, -0.2923,  0.4047,  0.0010],\n",
      "        [-0.2404, -0.2937, -0.3805,  0.1768, -0.1879, -0.2663],\n",
      "        [ 0.2868,  0.1791, -0.0951,  0.0053, -0.1278, -0.3687]],\n",
      "       requires_grad=True)\n",
      "Parameter containing:\n",
      "tensor([-0.1105,  0.2548,  0.0729, -0.1114], requires_grad=True)\n",
      "Parameter containing:\n",
      "tensor([[ 0.4028,  0.0064, -0.0249,  0.3833,  0.0162, -0.0704],\n",
      "        [ 0.3320, -0.1465, -0.1382, -0.0829,  0.0806, -0.4008],\n",
      "        [-0.1726, -0.2496, -0.2703,  0.3923,  0.3986, -0.3472],\n",
      "        [-0.2332,  0.1843, -0.3468, -0.3460, -0.0216, -0.3009]],\n",
      "       requires_grad=True)\n",
      "Parameter containing:\n",
      "tensor([ 0.0123, -0.2501,  0.0908, -0.2714], requires_grad=True)\n",
      "Parameter containing:\n",
      "tensor([[-0.2997, -0.0102,  0.4004, -0.3731,  0.3606],\n",
      "        [-0.3103, -0.1777, -0.3375,  0.1334, -0.3091],\n",
      "        [ 0.3967, -0.0635, -0.0626,  0.2890,  0.4078],\n",
      "        [-0.3859,  0.3965,  0.0443, -0.2366,  0.2719],\n",
      "        [-0.2947, -0.4359,  0.0695,  0.0807, -0.1767],\n",
      "        [-0.2343,  0.1383,  0.0889, -0.4181, -0.0469],\n",
      "        [ 0.1637,  0.2919,  0.3134, -0.0702, -0.2871],\n",
      "        [-0.4145, -0.0579,  0.3256,  0.0728, -0.0056]], requires_grad=True)\n",
      "Parameter containing:\n",
      "tensor([ 0.0096, -0.2154, -0.2624,  0.2968,  0.1072, -0.3381, -0.2283, -0.1194],\n",
      "       requires_grad=True)\n",
      "Parameter containing:\n",
      "tensor([[ 0.0629, -0.2893,  0.3271, -0.0618, -0.1909, -0.3381, -0.1433, -0.1298]],\n",
      "       requires_grad=True)\n",
      "Parameter containing:\n",
      "tensor([0.3066], requires_grad=True)\n",
      "h_layer0\n",
      "h_layer0_act\n",
      "h_layer1\n",
      "r_to_mean\n",
      "r_to_logvar\n",
      "r_to_logvar_softplus\n",
      "g_layer0\n",
      "g_layer0_act\n",
      "g_layer1\n"
     ]
    }
   ],
   "source": [
    "for i in r.parameters():\n",
    "    print(i)\n",
    "\n",
    "for i in r._modules:\n",
    "    print(i)"
   ]
  },
  {
   "cell_type": "code",
   "execution_count": null,
   "metadata": {},
   "outputs": [],
   "source": []
  }
 ],
 "metadata": {
  "kernelspec": {
   "display_name": "Python 3",
   "language": "python",
   "name": "python3"
  },
  "language_info": {
   "codemirror_mode": {
    "name": "ipython",
    "version": 3
   },
   "file_extension": ".py",
   "mimetype": "text/x-python",
   "name": "python",
   "nbconvert_exporter": "python",
   "pygments_lexer": "ipython3",
   "version": "3.6.7"
  }
 },
 "nbformat": 4,
 "nbformat_minor": 2
}
